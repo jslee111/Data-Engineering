{
  "metadata": {
    "language_info": {
      "name": ""
    },
    "kernelspec": {
      "name": "python",
      "display_name": "Python (Pyodide)",
      "language": "python"
    }
  },
  "nbformat_minor": 4,
  "nbformat": 4,
  "cells": [
    {
      "cell_type": "code",
      "source": "# Import necessary libraries\nimport pandas as pd\nimport boto3\nimport json\nimport configparser\nfrom botocore.exceptions import ClientError",
      "metadata": {
        "trusted": true
      },
      "execution_count": null,
      "outputs": []
    },
    {
      "cell_type": "code",
      "source": "# Read AWS configuration from a file\nconfig = configparser.ConfigParser()\nconfig.read_file(open('dwh.cfg'))\n\nAWS_KEY = config.get('AWS', 'KEY')\nAWS_SECRET = config.get('AWS', 'SECRET')\n\nDWH_CLUSTER_TYPE = config.get(\"DWH\", \"DWH_CLUSTER_TYPE\")\nDWH_NUM_NODES = config.get(\"DWH\", \"DWH_NUM_NODES\")\nDWH_NODE_TYPE = config.get(\"DWH\", \"DWH_NODE_TYPE\")\n\nDWH_CLUSTER_IDENTIFIER = config.get(\"DWH\", \"DWH_CLUSTER_IDENTIFIER\")\nDWH_DB = config.get(\"DWH\", \"DWH_DB\")\nDWH_DB_USER = config.get(\"DWH\", \"DWH_DB_USER\")\nDWH_DB_PASSWORD = config.get(\"DWH\", \"DWH_DB_PASSWORD\")\nDWH_PORT = config.get(\"DWH\", \"DWH_PORT\")\n\nDWH_IAM_ROLE_NAME = config.get(\"DWH\", \"DWH_IAM_ROLE_NAME\")",
      "metadata": {
        "trusted": true
      },
      "execution_count": null,
      "outputs": []
    },
    {
      "cell_type": "code",
      "source": "# Initialize AWS clients and resources\niam = boto3.client('iam', aws_access_key_id=AWS_KEY,\n                   aws_secret_access_key=AWS_SECRET,\n                   region_name='us-west-2'\n                   )\n\nec2 = boto3.resource('ec2',\n                    region_name=\"us-west-2\",\n                    aws_access_key_id=AWS_KEY,\n                    aws_secret_access_key=AWS_SECRET\n                    )\n\nredshift = boto3.client('redshift',\n                        region_name=\"us-west-2\",\n                        aws_access_key_id=AWS_KEY,\n                        aws_secret_access_key=AWS_SECRET\n                        )\n                        ",
      "metadata": {
        "trusted": true
      },
      "execution_count": null,
      "outputs": []
    },
    {
      "cell_type": "code",
      "source": "# Create an IAM Role allowing Redshift access to S3 (ReadOnly)\ntry:\n    dwhRole = iam.create_role(\n        Path='/',\n        RoleName=DWH_IAM_ROLE_NAME,\n        Description=\"Allows Redshift clusters to call AWS services on your behalf.\",\n        AssumeRolePolicyDocument=json.dumps(\n            {'Statement': [{'Action': 'sts:AssumeRole',\n                           'Effect': 'Allow',\n                           'Principal': {'Service': 'redshift.amazonaws.com'}}],\n             'Version': '2012-10-17'})\n    )\nexcept Exception as e:\n    print(e)",
      "metadata": {
        "trusted": true
      },
      "execution_count": null,
      "outputs": []
    },
    {
      "cell_type": "code",
      "source": "# Attach AmazonS3ReadOnlyAccess policy to the IAM Role\niam.attach_role_policy(RoleName=DWH_IAM_ROLE_NAME,\n                       PolicyArn=\"arn:aws:iam::aws:policy/AmazonS3ReadOnlyAccess\"\n                       )['ResponseMetadata']['HTTPStatusCode']",
      "metadata": {
        "trusted": true
      },
      "execution_count": null,
      "outputs": []
    },
    {
      "cell_type": "code",
      "source": "# Retrieve the IAM Role ARN\nroleArn = iam.get_role(RoleName=DWH_IAM_ROLE_NAME)['Role']['Arn']",
      "metadata": {
        "trusted": true
      },
      "execution_count": null,
      "outputs": []
    },
    {
      "cell_type": "code",
      "source": "# Create a Redshift cluster\ntry:\n    response = redshift.create_cluster(\n        ClusterType=DWH_CLUSTER_TYPE,\n        NodeType=DWH_NODE_TYPE,\n        NumberOfNodes=int(DWH_NUM_NODES),\n        DBName=DWH_DB,\n        ClusterIdentifier=DWH_CLUSTER_IDENTIFIER,\n        MasterUsername=DWH_DB_USER,\n        MasterUserPassword=DWH_DB_PASSWORD,\n        IamRoles=[roleArn]\n    )\nexcept Exception as e:\n    print(e)",
      "metadata": {
        "trusted": true
      },
      "execution_count": null,
      "outputs": []
    },
    {
      "cell_type": "code",
      "source": "# Define a function to display relevant Redshift cluster properties\ndef prettyRedshiftProps(props):\n    pd.set_option('display.max_colwidth', -1)\n    keysToShow = [\"ClusterIdentifier\", \"NodeType\", \"ClusterStatus\", \"NumberOfNodes\"]\n    x = [(k, v) for k, v in props.items() if k in keysToShow]\n    return pd.DataFrame(data=x, columns=[\"Key\", \"Value\"])",
      "metadata": {
        "trusted": true
      },
      "execution_count": null,
      "outputs": []
    },
    {
      "cell_type": "code",
      "source": "# Retrieve and display cluster properties\nmyClusterProps = redshift.describe_clusters(ClusterIdentifier=DWH_CLUSTER_IDENTIFIER)['Clusters'][0]\nprettyRedshiftProps(myClusterProps)",
      "metadata": {
        "trusted": true
      },
      "execution_count": null,
      "outputs": []
    },
    {
      "cell_type": "code",
      "source": "# Define Redshift endpoint and IAM role ARN\nDWH_ENDPOINT = myClusterProps['Endpoint']['Address']\nDWH_ROLE_ARN = myClusterProps['IamRoles'][0]['IamRoleArn']",
      "metadata": {
        "trusted": true
      },
      "execution_count": null,
      "outputs": []
    },
    {
      "cell_type": "code",
      "source": "# Open an incoming TCP port to access the cluster endpoint (Note: Check for existing rules)\ntry:\n    vpc = ec2.Vpc(id=myClusterProps['VpcId'])\n    defaultSg = list(vpc.security_groups.all())[0]\n    print(defaultSg)\n    defaultSg.authorize_ingress(\n        GroupName=defaultSg.group_name,\n        CidrIp='0.0.0.0/0',\n        IpProtocol='TCP',\n        FromPort=int(DWH_PORT),\n        ToPort=int(DWH_PORT)\n    )\nexcept Exception as e:\n    print(e)",
      "metadata": {
        "trusted": true
      },
      "execution_count": null,
      "outputs": []
    },
    {
      "cell_type": "code",
      "source": "# Connect to the Redshift cluster using SQL\n%load_ext sql\nconn_string = \"postgresql://{}:{}@{}:{}/{}\".format(DWH_DB_USER, DWH_DB_PASSWORD, DWH_ENDPOINT, DWH_PORT, DWH_DB)\nprint(conn_string)\n%sql $conn_string",
      "metadata": {
        "trusted": true
      },
      "execution_count": null,
      "outputs": []
    },
    {
      "cell_type": "code",
      "source": "",
      "metadata": {},
      "execution_count": null,
      "outputs": []
    }
  ]
}