{
  "metadata": {
    "language_info": {
      "name": ""
    },
    "kernelspec": {
      "name": "python",
      "display_name": "Python (Pyodide)",
      "language": "python"
    }
  },
  "nbformat_minor": 4,
  "nbformat": 4,
  "cells": [
    {
      "cell_type": "code",
      "source": "# Initialize AWS Resources and Configuration\nimport boto3\nimport configparser\nimport pandas as pd\n\nconfig = configparser.ConfigParser()\nconfig.read_file(open('dwh.cfg'))\n\nKEY = config.get('AWS', 'KEY')\nSECRET = config.get('AWS', 'SECRET')\n\nDWH_CLUSTER_IDENTIFIER = config.get(\"DWH\", \"DWH_CLUSTER_IDENTIFIER\")\nDWH_IAM_ROLE_NAME = config.get(\"DWH\", \"DWH_IAM_ROLE_NAME\")",
      "metadata": {
        "trusted": true
      },
      "execution_count": null,
      "outputs": []
    },
    {
      "cell_type": "code",
      "source": "# Connect to AWS Redshift and IAM\nredshift = boto3.client('redshift',\n                       region_name=\"us-west-2\",\n                       aws_access_key_id=KEY,\n                       aws_secret_access_key=SECRET\n                       )\n\niam = boto3.client('iam',\n                   aws_access_key_id=KEY,\n                   aws_secret_access_key=SECRET,\n                   region_name='us-west-2'\n                   )",
      "metadata": {
        "trusted": true
      },
      "execution_count": null,
      "outputs": []
    },
    {
      "cell_type": "code",
      "source": "# Delete the Redshift cluster\nredshift.delete_cluster(ClusterIdentifier=DWH_CLUSTER_IDENTIFIER, SkipFinalClusterSnapshot=True)\n",
      "metadata": {
        "trusted": true
      },
      "execution_count": null,
      "outputs": []
    },
    {
      "cell_type": "code",
      "source": "# Verify cluster deletion status\ndef prettyRedshiftProps(props):\n    pd.set_option('display.max_colwidth', -1)\n    keysToShow = [\"ClusterIdentifier\", \"NodeType\", \"ClusterStatus\", \"NumberOfNodes\"]\n    x = [(k, v) for k, v in props.items() if k in keysToShow]\n    return pd.DataFrame(data=x, columns=[\"Key\", \"Value\"])\n\ntry:\n    myClusterProps = redshift.describe_clusters(ClusterIdentifier=DWH_CLUSTER_IDENTIFIER)['Clusters'][0]\n    prettyRedshiftProps(myClusterProps)\nexcept redshift.exceptions.ClusterNotFoundFault as e:\n    print(\"Cluster not found. It may have already been deleted.\")",
      "metadata": {
        "trusted": true
      },
      "execution_count": null,
      "outputs": []
    },
    {
      "cell_type": "code",
      "source": "# Delete other associated resources\niam.detach_role_policy(RoleName=DWH_IAM_ROLE_NAME, PolicyArn=\"arn:aws:iam::aws:policy/AmazonS3ReadOnlyAccess\")\niam.delete_role(RoleName=DWH_IAM_ROLE_NAME)",
      "metadata": {
        "trusted": true
      },
      "execution_count": null,
      "outputs": []
    },
    {
      "cell_type": "code",
      "source": "",
      "metadata": {},
      "execution_count": null,
      "outputs": []
    }
  ]
}